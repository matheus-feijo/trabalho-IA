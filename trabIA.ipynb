{
  "nbformat": 4,
  "nbformat_minor": 0,
  "metadata": {
    "colab": {
      "name": "trabIA.ipynb",
      "provenance": [],
      "collapsed_sections": [],
      "authorship_tag": "ABX9TyNcb9F6cutQ+Fi/hy+fDjk0",
      "include_colab_link": true
    },
    "kernelspec": {
      "name": "python3",
      "display_name": "Python 3"
    },
    "language_info": {
      "name": "python"
    }
  },
  "cells": [
    {
      "cell_type": "markdown",
      "metadata": {
        "id": "view-in-github",
        "colab_type": "text"
      },
      "source": [
        "<a href=\"https://colab.research.google.com/github/matheus-feijo/trabalho-IA/blob/main/trabIA.ipynb\" target=\"_parent\"><img src=\"https://colab.research.google.com/assets/colab-badge.svg\" alt=\"Open In Colab\"/></a>"
      ]
    },
    {
      "cell_type": "markdown",
      "source": [
        "# **Trabalho de IA**\n",
        "\n",
        "\n",
        "---\n",
        "\n",
        "## Alunos: Matheus Feijo e Gabriel Arrien\n",
        "\n",
        "\n"
      ],
      "metadata": {
        "id": "5PLlGgtIWJF8"
      }
    },
    {
      "cell_type": "code",
      "execution_count": null,
      "metadata": {
        "id": "opt47yVzQkOS"
      },
      "outputs": [],
      "source": [
        "import numpy as np\n",
        "import pandas as pd\n",
        "import matplotlib.pyplot as plt\n",
        "from mlxtend.plotting import plot_decision_regions"
      ]
    },
    {
      "cell_type": "markdown",
      "source": [
        "**PERCEPTRON**"
      ],
      "metadata": {
        "id": "_ptdwI5cYzYW"
      }
    },
    {
      "cell_type": "code",
      "source": [
        "class Perceptron(object):\n",
        "\tdef __init__(self,learning_rate=0.01,epochs=50):\n",
        "\t\tself.learning_rate = learning_rate\n",
        "\t\tself.epochs = epochs\n",
        "\n",
        "\tdef train(self,X,y):\n",
        "\t\tself._weights = np.zeros(1 + X.shape[1])\n",
        "\t\tself._errors = []\n",
        "\n",
        "\t\tfor _ in range(self.epochs):\n",
        "\t\t\terrors = 0\n",
        "\t\t\tfor xi,target in zip(X,y):\n",
        "\t\t\t\terror = (target - self.predict(xi))\n",
        "\n",
        "\t\t\t\terrors += int(error != 0.0)\n",
        "\n",
        "\t\t\t\tupdate = self.learning_rate + error\n",
        "\t\t\t\tself._weights[1:] += update * xi\n",
        "\t\t\t\tself._weights[0] += update\n",
        "\t\t\tself._errors.append(errors)\n",
        "\t\treturn self\n",
        "\n",
        "\tdef net_input(self,X):\n",
        "\t\tw_bias = self._weights[0]\n",
        "\t\treturn np.dot(X,self._weights[1:]) + w_bias\n",
        "\t\n",
        "\tdef activation(self,X):\n",
        "\t\t#print(self.net_input(X))\n",
        "\t\treturn self.net_input(X)\n",
        "\n",
        "\tdef predict(self,X):\n",
        "\t\t#print(np.where(self.activation(X) >= 0.0, 1, -1))\n",
        "\t\treturn np.where(self.activation(X) >= 0.0, 1, -1)\n"
      ],
      "metadata": {
        "id": "YLp-VOm0Q48Q"
      },
      "execution_count": null,
      "outputs": []
    },
    {
      "cell_type": "markdown",
      "source": [
        "**dados do trabalho**"
      ],
      "metadata": {
        "id": "FDxGcbU3Y9WT"
      }
    },
    {
      "cell_type": "code",
      "source": [
        "#Dados reorganizados\n",
        "#(maria,nao,sim,nao,nao) SAUDAVEL\n",
        "#(pedro,nao,nao,sim,nao) SAUDAVEL\n",
        "#(ana,sim,nao,nao,sim) SAUDAVEL\n",
        "#(leila,nao,nao,sim,sim) DOENTE\n",
        "#(joao,sim,sim,nao,sim) DOENTE\n",
        "#(jose,sim,sim,sim,sim) DOENTE\n",
        "\n",
        "#OBS: sim == 1 e nao == 0\n",
        "\n",
        "aux = pd.read_csv(\"dados.csv\")\n",
        "aux.tail()\n",
        "\n",
        "y = aux.iloc[0:7,5].values\n",
        "y = np.where(y==\"saudavel\",1,-1)\n",
        "X = aux.iloc[0:7,[1,2,3,4]].values\n",
        "print(X)\n",
        "print(y)"
      ],
      "metadata": {
        "id": "yz2eJ64cSd_J",
        "colab": {
          "base_uri": "https://localhost:8080/"
        },
        "outputId": "270910fa-202e-4c0e-cf7f-92b00d8c60b5"
      },
      "execution_count": null,
      "outputs": [
        {
          "output_type": "stream",
          "name": "stdout",
          "text": [
            "[[0 1 0 0]\n",
            " [0 0 1 0]\n",
            " [1 0 0 1]\n",
            " [0 0 1 1]\n",
            " [1 1 0 1]\n",
            " [1 1 1 1]]\n",
            "[ 1  1  1 -1 -1 -1]\n"
          ]
        }
      ]
    },
    {
      "cell_type": "markdown",
      "source": [
        "**chamando o perceptron para treinar os dados**"
      ],
      "metadata": {
        "id": "zNPGCQXEZKDF"
      }
    },
    {
      "cell_type": "code",
      "source": [
        "clf = Perceptron(epochs=10)\n",
        "clf.train(X,y)\n",
        "\n",
        "procentagemAcerto = []\n",
        "\n",
        "for i in range(0,clf.epochs):\n",
        "   #aux = quantidade de pessoas testadas - a quantidade de determinações erradas feitas pelo perceptron\n",
        "   aux =  (100 * clf._errors[i] )/6\n",
        "   aux = 100 - aux\n",
        "   aux = round(aux,2)\n",
        "   #print(aux)\n",
        "\n",
        "   procentagemAcerto.append(aux) \n",
        "  \n",
        "#Questao 1 \n",
        "print(\"Porcentagem de Acerto: \",procentagemAcerto)\n",
        "#print(\"Erros: \",clf._errors)\n",
        "print(\"pesos calculados depois: \",clf._weights)"
      ],
      "metadata": {
        "colab": {
          "base_uri": "https://localhost:8080/"
        },
        "id": "ovgetNaTRwQt",
        "outputId": "72ec78a3-092a-406a-8669-0398c9b702e1"
      },
      "execution_count": null,
      "outputs": [
        {
          "output_type": "stream",
          "name": "stdout",
          "text": [
            "Porcentagem de Acerto:  [83.33, 50.0, 33.33, 50.0, 66.67, 66.67, 83.33, 100.0, 100.0, 100.0]\n",
            "pesos calculados depois:  [ 4.6  2.3 -1.7 -1.7 -5.6]\n"
          ]
        }
      ]
    },
    {
      "cell_type": "code",
      "source": [
        "def treeDecision(person):\n",
        "  if(person[1] == \"sim\"):\n",
        "    if(person[2] == \"sim\"):\n",
        "      return \"doente\"\n",
        "    else:\n",
        "      return \"saudavel\"\n",
        "\n",
        "  else:\n",
        "    if(person[2] == \"sim\"):\n",
        "      return \"saudavel\"\n",
        "    else:\n",
        "      if(person[3] == \"grandes\"):\n",
        "        if(person[4] == \"sim\"):\n",
        "          return \"doente\"\n",
        "        else:\n",
        "          return \"saudavel\"\n",
        "\n",
        "      else:\n",
        "        return \"Possivelmente Saudavel\"\n",
        "    "
      ],
      "metadata": {
        "id": "dTbwNwvl-pKG"
      },
      "execution_count": 6,
      "outputs": []
    },
    {
      "cell_type": "code",
      "source": [
        "luis = [\"nao\",\"nao\",\"pequenas\",\"sim\"]\n",
        "laura = [\"sim\",\"sim\",\"grandes\",\"sim\"]\n",
        "\n",
        "res1 = treeDecision(luis)\n",
        "res2 = treeDecision(laura)\n",
        "\n",
        "print(f\"Luis = {res1}\\nLaura = {res2}\")"
      ],
      "metadata": {
        "colab": {
          "base_uri": "https://localhost:8080/"
        },
        "id": "jh0UQwDzTWAu",
        "outputId": "89c964aa-3123-432e-b64c-bcfd3c3076f6"
      },
      "execution_count": 5,
      "outputs": [
        {
          "output_type": "stream",
          "name": "stdout",
          "text": [
            "Luis = Possivelmente Saudavel\n",
            "Laura = saudavel\n"
          ]
        }
      ]
    }
  ]
}